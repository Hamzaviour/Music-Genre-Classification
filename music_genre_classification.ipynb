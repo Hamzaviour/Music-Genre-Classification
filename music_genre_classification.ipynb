{
 "cells": [
  {
   "cell_type": "markdown",
   "metadata": {},
   "source": [
    "# Music Genre Classification\n",
    "Machine learning project for classifying music genres using multiple approaches including tabular features and deep learning models.\n"
   ]
  },
  {
   "cell_type": "markdown",
   "metadata": {},
   "source": [
    "## Import Libraries\n",
    "Import all necessary libraries for data processing, machine learning, and deep learning.\n"
   ]
  },
  {
   "cell_type": "code",
   "execution_count": 3,
   "metadata": {},
   "outputs": [],
   "source": [
    "import numpy as np\n",
    "import pandas as pd\n",
    "import librosa\n",
    "import librosa.display\n",
    "import matplotlib.pyplot as plt\n",
    "import seaborn as sns\n",
    "from sklearn.model_selection import train_test_split\n",
    "from sklearn.preprocessing import StandardScaler, LabelEncoder\n",
    "from sklearn.ensemble import RandomForestClassifier\n",
    "from sklearn.svm import SVC\n",
    "from sklearn.metrics import classification_report, confusion_matrix, accuracy_score\n",
    "import tensorflow as tf\n",
    "from tensorflow.keras.models import Sequential\n",
    "from tensorflow.keras.layers import Dense, Conv2D, MaxPooling2D, Flatten, Dropout\n",
    "from tensorflow.keras.applications import VGG16\n",
    "from tensorflow.keras.preprocessing.image import ImageDataGenerator\n",
    "import os\n",
    "import warnings\n",
    "warnings.filterwarnings('ignore')\n"
   ]
  },
  {
   "cell_type": "markdown",
   "metadata": {},
   "source": [
    "## Load and Explore Dataset\n",
    "Load audio files from the GTZAN dataset and organize them by genre for processing.\n"
   ]
  },
  {
   "cell_type": "code",
   "execution_count": 4,
   "metadata": {},
   "outputs": [
    {
     "name": "stdout",
     "output_type": "stream",
     "text": [
      "Found blues directory with 100 files\n",
      "Found classical directory with 100 files\n",
      "Found country directory with 100 files\n",
      "Found disco directory with 100 files\n",
      "Found hiphop directory with 100 files\n",
      "Found jazz directory with 100 files\n",
      "Found metal directory with 100 files\n",
      "Found pop directory with 100 files\n",
      "Found reggae directory with 100 files\n",
      "Found rock directory with 100 files\n",
      "Total audio files: 1000\n",
      "Genres: ['blues', 'classical', 'country', 'disco', 'hiphop', 'jazz', 'metal', 'pop', 'reggae', 'rock']\n",
      "Files per genre: 100\n"
     ]
    }
   ],
   "source": [
    "data_path = 'gtzan_dataset/genres_original'\n",
    "genres = ['blues', 'classical', 'country', 'disco', 'hiphop', 'jazz', 'metal', 'pop', 'reggae', 'rock']\n",
    "audio_files = []\n",
    "labels = []\n",
    "\n",
    "for genre in genres:\n",
    "    genre_path = os.path.join(data_path, genre)\n",
    "    if os.path.exists(genre_path):\n",
    "        print(f\"Found {genre} directory with {len(os.listdir(genre_path))} files\")\n",
    "        for file in os.listdir(genre_path):\n",
    "            if file.endswith('.wav'):\n",
    "                audio_files.append(os.path.join(genre_path, file))\n",
    "                labels.append(genre)\n",
    "    else:\n",
    "        print(f\"Error: {genre_path} does not exist\")\n",
    "\n",
    "print(f\"Total audio files: {len(audio_files)}\")\n",
    "print(f\"Genres: {genres}\")\n",
    "print(f\"Files per genre: {len(audio_files) // len(genres) if audio_files else 0}\")\n"
   ]
  },
  {
   "cell_type": "markdown",
   "metadata": {},
   "source": [
    "## Extract MFCC Features\n",
    "Define function to extract audio features including MFCC, chroma, mel, contrast, and tonnetz.\n"
   ]
  },
  {
   "cell_type": "code",
   "execution_count": 5,
   "metadata": {},
   "outputs": [],
   "source": [
    "def extract_features(file_path, mfcc=True, chroma=True, mel=True, contrast=True, tonnetz=True):\n",
    "    try:\n",
    "        X, sample_rate = librosa.load(file_path, res_type='kaiser_fast', duration=30)\n",
    "        stft = np.abs(librosa.stft(X))\n",
    "        result = np.array([])\n",
    "        \n",
    "        if mfcc:\n",
    "            mfccs = np.mean(librosa.feature.mfcc(y=X, sr=sample_rate, n_mfcc=40).T, axis=0)\n",
    "            result = np.hstack((result, mfccs))\n",
    "        \n",
    "        if chroma:\n",
    "            try:\n",
    "                chroma_feat = np.mean(librosa.feature.chroma(S=stft, sr=sample_rate).T, axis=0)\n",
    "                result = np.hstack((result, chroma_feat))\n",
    "            except:\n",
    "                chroma_feat = np.zeros(12)\n",
    "                result = np.hstack((result, chroma_feat))\n",
    "        \n",
    "        if mel:\n",
    "            mel_feat = np.mean(librosa.feature.melspectrogram(y=X, sr=sample_rate).T, axis=0)\n",
    "            result = np.hstack((result, mel_feat))\n",
    "        \n",
    "        if contrast:\n",
    "            try:\n",
    "                contrast_feat = np.mean(librosa.feature.spectral_contrast(S=stft, sr=sample_rate).T, axis=0)\n",
    "                result = np.hstack((result, contrast_feat))\n",
    "            except:\n",
    "                contrast_feat = np.zeros(7)\n",
    "                result = np.hstack((result, contrast_feat))\n",
    "        \n",
    "        if tonnetz:\n",
    "            try:\n",
    "                tonnetz_feat = np.mean(librosa.feature.tonnetz(y=librosa.effects.harmonic(X), sr=sample_rate).T, axis=0)\n",
    "                result = np.hstack((result, tonnetz_feat))\n",
    "            except:\n",
    "                tonnetz_feat = np.zeros(6)\n",
    "                result = np.hstack((result, tonnetz_feat))\n",
    "        \n",
    "        return result\n",
    "    except Exception as e:\n",
    "        print(f\"Error processing {file_path}: {e}\")\n",
    "        return None\n"
   ]
  },
  {
   "cell_type": "markdown",
   "metadata": {},
   "source": [
    "## Process Audio Files for Tabular Data\n",
    "Extract features from audio files with balanced sampling across all genres.\n"
   ]
  },
  {
   "cell_type": "code",
   "execution_count": 6,
   "metadata": {},
   "outputs": [
    {
     "name": "stdout",
     "output_type": "stream",
     "text": [
      " Found 1000 audio files.\n",
      "Processing 10 files per genre (100 total)...\n",
      "🎵 Processing blues files...\n",
      "🎵 Processing classical files...\n",
      "🎵 Processed 20 files\n",
      "🎵 Processing country files...\n",
      "🎵 Processing disco files...\n",
      "🎵 Processed 40 files\n",
      "🎵 Processing hiphop files...\n",
      "🎵 Processing jazz files...\n",
      "🎵 Processed 60 files\n",
      "🎵 Processing metal files...\n",
      "🎵 Processing pop files...\n",
      "🎵 Processed 80 files\n",
      "🎵 Processing reggae files...\n",
      "🎵 Processing rock files...\n",
      "🎵 Processed 100 files\n",
      " Features shape: (100, 194)\n",
      " Genre distribution:\n",
      "  blues: 10 files\n",
      "  classical: 10 files\n",
      "  country: 10 files\n",
      "  disco: 10 files\n",
      "  hiphop: 10 files\n",
      "  jazz: 10 files\n",
      "  metal: 10 files\n",
      "  pop: 10 files\n",
      "  reggae: 10 files\n",
      "  rock: 10 files\n",
      " Successfully extracted features from 100 audio files\n"
     ]
    }
   ],
   "source": [
    "features = []\n",
    "processed_labels = []\n",
    "\n",
    "if len(audio_files) == 0:\n",
    "    print(\" No audio files found\")\n",
    "else:\n",
    "    print(f\" Found {len(audio_files)} audio files.\")\n",
    "    \n",
    "    files_per_genre = 10\n",
    "    total_files_to_process = len(genres) * files_per_genre\n",
    "    \n",
    "    print(f\"Processing {files_per_genre} files per genre ({total_files_to_process} total)...\")\n",
    "    \n",
    "    genre_files = {genre: [] for genre in genres}\n",
    "    for file_path, label in zip(audio_files, labels):\n",
    "        genre_files[label].append(file_path)\n",
    "    \n",
    "    processed_count = 0\n",
    "    for genre in genres:\n",
    "        print(f\"🎵 Processing {genre} files...\")\n",
    "        genre_file_list = genre_files[genre][:files_per_genre]\n",
    "        \n",
    "        for file_path in genre_file_list:\n",
    "            try:\n",
    "                feature = extract_features(file_path)\n",
    "                if feature is not None:\n",
    "                    features.append(feature)\n",
    "                    processed_labels.append(genre)\n",
    "                    processed_count += 1\n",
    "                    if processed_count % 20 == 0:\n",
    "                        print(f\"🎵 Processed {processed_count} files\")\n",
    "            except Exception as e:\n",
    "                print(f\" Error processing {file_path}: {e}\")\n",
    "\n",
    "    features_df = pd.DataFrame(features)\n",
    "    features_df['genre'] = processed_labels\n",
    "    print(f\" Features shape: {features_df.shape}\")\n",
    "    \n",
    "    genre_counts = features_df['genre'].value_counts()\n",
    "    print(f\" Genre distribution:\")\n",
    "    for genre, count in genre_counts.items():\n",
    "        print(f\"  {genre}: {count} files\")\n",
    "    \n",
    "    if len(features) == 0:\n",
    "        print(\" No features extracted!\")\n",
    "    else:\n",
    "        print(f\" Successfully extracted features from {len(features)} audio files\")\n"
   ]
  },
  {
   "cell_type": "markdown",
   "metadata": {},
   "source": [
    "## Tabular Data Classification\n",
    "Prepare extracted features for machine learning by encoding labels and splitting data.\n"
   ]
  },
  {
   "cell_type": "code",
   "execution_count": 7,
   "metadata": {},
   "outputs": [
    {
     "name": "stdout",
     "output_type": "stream",
     "text": [
      "Training set shape: (80, 193)\n",
      "Test set shape: (20, 193)\n",
      "Number of genres: 10\n",
      "Genres: ['blues', 'classical', 'country', 'disco', 'hiphop', 'jazz', 'metal', 'pop', 'reggae', 'rock']\n"
     ]
    }
   ],
   "source": [
    "if 'features_df' not in locals() or len(features_df) == 0:\n",
    "    print(\" No features available!\")\n",
    "else:\n",
    "    X_tabular = features_df.drop('genre', axis=1)\n",
    "    y_tabular = features_df['genre']\n",
    "\n",
    "    label_encoder = LabelEncoder()\n",
    "    y_encoded = label_encoder.fit_transform(y_tabular)\n",
    "\n",
    "    X_train, X_test, y_train, y_test = train_test_split(X_tabular, y_encoded, test_size=0.2, random_state=42, stratify=y_encoded)\n",
    "\n",
    "    scaler = StandardScaler()\n",
    "    X_train_scaled = scaler.fit_transform(X_train)\n",
    "    X_test_scaled = scaler.transform(X_test)\n",
    "\n",
    "    print(f\"Training set shape: {X_train_scaled.shape}\")\n",
    "    print(f\"Test set shape: {X_test_scaled.shape}\")\n",
    "    print(f\"Number of genres: {len(label_encoder.classes_)}\")\n",
    "    print(f\"Genres: {list(label_encoder.classes_)}\")\n"
   ]
  },
  {
   "cell_type": "markdown",
   "metadata": {},
   "source": [
    "## Random Forest Classifier\n",
    "Train Random Forest classifier on extracted audio features for genre classification.\n"
   ]
  },
  {
   "cell_type": "code",
   "execution_count": 8,
   "metadata": {},
   "outputs": [
    {
     "name": "stdout",
     "output_type": "stream",
     "text": [
      "Training Random Forest Classifier...\n",
      "Random Forest Accuracy: 0.7000\n",
      "\n",
      " Classification Report:\n",
      "              precision    recall  f1-score   support\n",
      "\n",
      "       blues       1.00      0.50      0.67         2\n",
      "   classical       1.00      1.00      1.00         2\n",
      "     country       1.00      1.00      1.00         2\n",
      "       disco       1.00      1.00      1.00         2\n",
      "      hiphop       0.50      0.50      0.50         2\n",
      "        jazz       0.67      1.00      0.80         2\n",
      "       metal       1.00      0.50      0.67         2\n",
      "         pop       0.00      0.00      0.00         2\n",
      "      reggae       0.33      1.00      0.50         2\n",
      "        rock       1.00      0.50      0.67         2\n",
      "\n",
      "    accuracy                           0.70        20\n",
      "   macro avg       0.75      0.70      0.68        20\n",
      "weighted avg       0.75      0.70      0.68        20\n",
      "\n"
     ]
    }
   ],
   "source": [
    "if 'X_train_scaled' not in locals():\n",
    "    print(\" No training data available!\")\n",
    "else:\n",
    "    print(\"Training Random Forest Classifier...\")\n",
    "    rf_model = RandomForestClassifier(n_estimators=100, random_state=42)\n",
    "    rf_model.fit(X_train_scaled, y_train)\n",
    "    rf_predictions = rf_model.predict(X_test_scaled)\n",
    "    rf_accuracy = accuracy_score(y_test, rf_predictions)\n",
    "\n",
    "    print(f\"Random Forest Accuracy: {rf_accuracy:.4f}\")\n",
    "    print(\"\\n Classification Report:\")\n",
    "    print(classification_report(y_test, rf_predictions, target_names=label_encoder.classes_))\n"
   ]
  },
  {
   "cell_type": "markdown",
   "metadata": {},
   "source": [
    "## SVM Classifier\n",
    "Train Support Vector Machine classifier with RBF kernel for genre classification.\n"
   ]
  },
  {
   "cell_type": "code",
   "execution_count": 9,
   "metadata": {},
   "outputs": [
    {
     "name": "stdout",
     "output_type": "stream",
     "text": [
      "Training SVM Classifier with 10 classes...\n",
      "SVM Accuracy: 0.6000\n",
      "\n",
      "Classification Report:\n",
      "              precision    recall  f1-score   support\n",
      "\n",
      "       blues       0.00      0.00      0.00         2\n",
      "   classical       1.00      1.00      1.00         2\n",
      "     country       1.00      0.50      0.67         2\n",
      "       disco       0.67      1.00      0.80         2\n",
      "      hiphop       0.50      0.50      0.50         2\n",
      "        jazz       0.40      1.00      0.57         2\n",
      "       metal       1.00      0.50      0.67         2\n",
      "         pop       0.00      0.00      0.00         2\n",
      "      reggae       0.50      1.00      0.67         2\n",
      "        rock       0.50      0.50      0.50         2\n",
      "\n",
      "    accuracy                           0.60        20\n",
      "   macro avg       0.56      0.60      0.54        20\n",
      "weighted avg       0.56      0.60      0.54        20\n",
      "\n"
     ]
    }
   ],
   "source": [
    "if 'X_train_scaled' not in locals():\n",
    "    print(\" No training data available\")\n",
    "elif len(np.unique(y_train)) < 2:\n",
    "    print(f\" SVM requires at least 2 classes, but only found {len(np.unique(y_train))} class(es): {np.unique(y_train)}\")\n",
    "else:\n",
    "    print(f\"Training SVM Classifier with {len(np.unique(y_train))} classes...\")\n",
    "    svm_model = SVC(kernel='rbf', random_state=42)\n",
    "    svm_model.fit(X_train_scaled, y_train)\n",
    "    svm_predictions = svm_model.predict(X_test_scaled)\n",
    "    svm_accuracy = accuracy_score(y_test, svm_predictions)\n",
    "\n",
    "    print(f\"SVM Accuracy: {svm_accuracy:.4f}\")\n",
    "    print(\"\\nClassification Report:\")\n",
    "    print(classification_report(y_test, svm_predictions, target_names=label_encoder.classes_))\n"
   ]
  },
  {
   "cell_type": "markdown",
   "metadata": {},
   "source": [
    "## Generate Spectrograms for CNN\n",
    "Create spectrograms from audio files with balanced sampling for deep learning models.\n"
   ]
  },
  {
   "cell_type": "code",
   "execution_count": 10,
   "metadata": {},
   "outputs": [
    {
     "name": "stdout",
     "output_type": "stream",
     "text": [
      "Creating spectrograms from 1000 audio files.\n",
      "Processing 5 spectrograms per genre (50 total)...\n",
      "🎵 Creating blues spectrograms...\n",
      "🎵 Creating classical spectrograms...\n",
      "Generated 10 spectrograms\n",
      "🎵 Creating country spectrograms...\n",
      "🎵 Creating disco spectrograms...\n",
      "Generated 20 spectrograms\n",
      "🎵 Creating hiphop spectrograms...\n",
      "🎵 Creating jazz spectrograms...\n",
      "Generated 30 spectrograms\n",
      "🎵 Creating metal spectrograms...\n",
      "🎵 Creating pop spectrograms...\n",
      "Generated 40 spectrograms\n",
      "🎵 Creating reggae spectrograms...\n",
      "🎵 Creating rock spectrograms...\n",
      "Generated 50 spectrograms\n",
      "Spectrograms shape: (50, 128, 128, 1)\n",
      "Genre distribution: [5 5 5 5 5 5 5 5 5 5]\n"
     ]
    }
   ],
   "source": [
    "def create_spectrogram(file_path, save_path=None):\n",
    "    y, sr = librosa.load(file_path, duration=30)\n",
    "    spect = librosa.stft(y)\n",
    "    spect = np.abs(spect)\n",
    "    spect = librosa.amplitude_to_db(spect, ref=np.max)\n",
    "    \n",
    "    if save_path:\n",
    "        plt.figure(figsize=(10, 4))\n",
    "        librosa.display.specshow(spect, y_axis='hz', x_axis='time', sr=sr)\n",
    "        plt.axis('off')\n",
    "        plt.savefig(save_path, bbox_inches='tight', pad_inches=0)\n",
    "        plt.close()\n",
    "    \n",
    "    return spect\n",
    "\n",
    "spectrograms = []\n",
    "spec_labels = []\n",
    "\n",
    "if len(audio_files) == 0:\n",
    "    print(\"No audio files found!\")\n",
    "else:\n",
    "    print(f\"Creating spectrograms from {len(audio_files)} audio files.\")\n",
    "    \n",
    "    files_per_genre = 5\n",
    "    total_files_to_process = len(genres) * files_per_genre\n",
    "    \n",
    "    print(f\"Processing {files_per_genre} spectrograms per genre ({total_files_to_process} total)...\")\n",
    "    \n",
    "    genre_files = {genre: [] for genre in genres}\n",
    "    for file_path, label in zip(audio_files, labels):\n",
    "        genre_files[label].append(file_path)\n",
    "    \n",
    "    processed_count = 0\n",
    "    for genre in genres:\n",
    "        print(f\"🎵 Creating {genre} spectrograms...\")\n",
    "        genre_file_list = genre_files[genre][:files_per_genre]\n",
    "        \n",
    "        for file_path in genre_file_list:\n",
    "            try:\n",
    "                spec = create_spectrogram(file_path)\n",
    "                spec_resized = np.resize(spec, (128, 128))\n",
    "                spectrograms.append(spec_resized)\n",
    "                spec_labels.append(genre)\n",
    "                processed_count += 1\n",
    "                if processed_count % 10 == 0:\n",
    "                    print(f\"Generated {processed_count} spectrograms\")\n",
    "            except Exception as e:\n",
    "                print(f\" Error creating spectrogram for {file_path}: {e}\")\n",
    "\n",
    "    spectrograms = np.array(spectrograms)\n",
    "    spectrograms = np.expand_dims(spectrograms, axis=-1)\n",
    "    \n",
    "    if 'label_encoder' in locals():\n",
    "        spec_labels_encoded = label_encoder.transform(spec_labels)\n",
    "    else:\n",
    "        temp_encoder = LabelEncoder()\n",
    "        spec_labels_encoded = temp_encoder.fit_transform(spec_labels)\n",
    "\n",
    "    print(f\"Spectrograms shape: {spectrograms.shape}\")\n",
    "    print(f\"Genre distribution: {np.bincount(spec_labels_encoded)}\")\n"
   ]
  },
  {
   "cell_type": "markdown",
   "metadata": {},
   "source": [
    "## Custom CNN Model\n",
    "Build and compile a custom Convolutional Neural Network for spectrogram classification.\n"
   ]
  },
  {
   "cell_type": "code",
   "execution_count": 11,
   "metadata": {},
   "outputs": [
    {
     "data": {
      "text/html": [
       "<pre style=\"white-space:pre;overflow-x:auto;line-height:normal;font-family:Menlo,'DejaVu Sans Mono',consolas,'Courier New',monospace\"><span style=\"font-weight: bold\">Model: \"sequential\"</span>\n",
       "</pre>\n"
      ],
      "text/plain": [
       "\u001b[1mModel: \"sequential\"\u001b[0m\n"
      ]
     },
     "metadata": {},
     "output_type": "display_data"
    },
    {
     "data": {
      "text/html": [
       "<pre style=\"white-space:pre;overflow-x:auto;line-height:normal;font-family:Menlo,'DejaVu Sans Mono',consolas,'Courier New',monospace\">┏━━━━━━━━━━━━━━━━━━━━━━━━━━━━━━━━━━━━━━┳━━━━━━━━━━━━━━━━━━━━━━━━━━━━━┳━━━━━━━━━━━━━━━━━┓\n",
       "┃<span style=\"font-weight: bold\"> Layer (type)                         </span>┃<span style=\"font-weight: bold\"> Output Shape                </span>┃<span style=\"font-weight: bold\">         Param # </span>┃\n",
       "┡━━━━━━━━━━━━━━━━━━━━━━━━━━━━━━━━━━━━━━╇━━━━━━━━━━━━━━━━━━━━━━━━━━━━━╇━━━━━━━━━━━━━━━━━┩\n",
       "│ conv2d (<span style=\"color: #0087ff; text-decoration-color: #0087ff\">Conv2D</span>)                      │ (<span style=\"color: #00d7ff; text-decoration-color: #00d7ff\">None</span>, <span style=\"color: #00af00; text-decoration-color: #00af00\">126</span>, <span style=\"color: #00af00; text-decoration-color: #00af00\">126</span>, <span style=\"color: #00af00; text-decoration-color: #00af00\">32</span>)        │             <span style=\"color: #00af00; text-decoration-color: #00af00\">320</span> │\n",
       "├──────────────────────────────────────┼─────────────────────────────┼─────────────────┤\n",
       "│ max_pooling2d (<span style=\"color: #0087ff; text-decoration-color: #0087ff\">MaxPooling2D</span>)         │ (<span style=\"color: #00d7ff; text-decoration-color: #00d7ff\">None</span>, <span style=\"color: #00af00; text-decoration-color: #00af00\">63</span>, <span style=\"color: #00af00; text-decoration-color: #00af00\">63</span>, <span style=\"color: #00af00; text-decoration-color: #00af00\">32</span>)          │               <span style=\"color: #00af00; text-decoration-color: #00af00\">0</span> │\n",
       "├──────────────────────────────────────┼─────────────────────────────┼─────────────────┤\n",
       "│ conv2d_1 (<span style=\"color: #0087ff; text-decoration-color: #0087ff\">Conv2D</span>)                    │ (<span style=\"color: #00d7ff; text-decoration-color: #00d7ff\">None</span>, <span style=\"color: #00af00; text-decoration-color: #00af00\">61</span>, <span style=\"color: #00af00; text-decoration-color: #00af00\">61</span>, <span style=\"color: #00af00; text-decoration-color: #00af00\">64</span>)          │          <span style=\"color: #00af00; text-decoration-color: #00af00\">18,496</span> │\n",
       "├──────────────────────────────────────┼─────────────────────────────┼─────────────────┤\n",
       "│ max_pooling2d_1 (<span style=\"color: #0087ff; text-decoration-color: #0087ff\">MaxPooling2D</span>)       │ (<span style=\"color: #00d7ff; text-decoration-color: #00d7ff\">None</span>, <span style=\"color: #00af00; text-decoration-color: #00af00\">30</span>, <span style=\"color: #00af00; text-decoration-color: #00af00\">30</span>, <span style=\"color: #00af00; text-decoration-color: #00af00\">64</span>)          │               <span style=\"color: #00af00; text-decoration-color: #00af00\">0</span> │\n",
       "├──────────────────────────────────────┼─────────────────────────────┼─────────────────┤\n",
       "│ conv2d_2 (<span style=\"color: #0087ff; text-decoration-color: #0087ff\">Conv2D</span>)                    │ (<span style=\"color: #00d7ff; text-decoration-color: #00d7ff\">None</span>, <span style=\"color: #00af00; text-decoration-color: #00af00\">28</span>, <span style=\"color: #00af00; text-decoration-color: #00af00\">28</span>, <span style=\"color: #00af00; text-decoration-color: #00af00\">128</span>)         │          <span style=\"color: #00af00; text-decoration-color: #00af00\">73,856</span> │\n",
       "├──────────────────────────────────────┼─────────────────────────────┼─────────────────┤\n",
       "│ max_pooling2d_2 (<span style=\"color: #0087ff; text-decoration-color: #0087ff\">MaxPooling2D</span>)       │ (<span style=\"color: #00d7ff; text-decoration-color: #00d7ff\">None</span>, <span style=\"color: #00af00; text-decoration-color: #00af00\">14</span>, <span style=\"color: #00af00; text-decoration-color: #00af00\">14</span>, <span style=\"color: #00af00; text-decoration-color: #00af00\">128</span>)         │               <span style=\"color: #00af00; text-decoration-color: #00af00\">0</span> │\n",
       "├──────────────────────────────────────┼─────────────────────────────┼─────────────────┤\n",
       "│ flatten (<span style=\"color: #0087ff; text-decoration-color: #0087ff\">Flatten</span>)                    │ (<span style=\"color: #00d7ff; text-decoration-color: #00d7ff\">None</span>, <span style=\"color: #00af00; text-decoration-color: #00af00\">25088</span>)               │               <span style=\"color: #00af00; text-decoration-color: #00af00\">0</span> │\n",
       "├──────────────────────────────────────┼─────────────────────────────┼─────────────────┤\n",
       "│ dense (<span style=\"color: #0087ff; text-decoration-color: #0087ff\">Dense</span>)                        │ (<span style=\"color: #00d7ff; text-decoration-color: #00d7ff\">None</span>, <span style=\"color: #00af00; text-decoration-color: #00af00\">512</span>)                 │      <span style=\"color: #00af00; text-decoration-color: #00af00\">12,845,568</span> │\n",
       "├──────────────────────────────────────┼─────────────────────────────┼─────────────────┤\n",
       "│ dropout (<span style=\"color: #0087ff; text-decoration-color: #0087ff\">Dropout</span>)                    │ (<span style=\"color: #00d7ff; text-decoration-color: #00d7ff\">None</span>, <span style=\"color: #00af00; text-decoration-color: #00af00\">512</span>)                 │               <span style=\"color: #00af00; text-decoration-color: #00af00\">0</span> │\n",
       "├──────────────────────────────────────┼─────────────────────────────┼─────────────────┤\n",
       "│ dense_1 (<span style=\"color: #0087ff; text-decoration-color: #0087ff\">Dense</span>)                      │ (<span style=\"color: #00d7ff; text-decoration-color: #00d7ff\">None</span>, <span style=\"color: #00af00; text-decoration-color: #00af00\">10</span>)                  │           <span style=\"color: #00af00; text-decoration-color: #00af00\">5,130</span> │\n",
       "└──────────────────────────────────────┴─────────────────────────────┴─────────────────┘\n",
       "</pre>\n"
      ],
      "text/plain": [
       "┏━━━━━━━━━━━━━━━━━━━━━━━━━━━━━━━━━━━━━━┳━━━━━━━━━━━━━━━━━━━━━━━━━━━━━┳━━━━━━━━━━━━━━━━━┓\n",
       "┃\u001b[1m \u001b[0m\u001b[1mLayer (type)                        \u001b[0m\u001b[1m \u001b[0m┃\u001b[1m \u001b[0m\u001b[1mOutput Shape               \u001b[0m\u001b[1m \u001b[0m┃\u001b[1m \u001b[0m\u001b[1m        Param #\u001b[0m\u001b[1m \u001b[0m┃\n",
       "┡━━━━━━━━━━━━━━━━━━━━━━━━━━━━━━━━━━━━━━╇━━━━━━━━━━━━━━━━━━━━━━━━━━━━━╇━━━━━━━━━━━━━━━━━┩\n",
       "│ conv2d (\u001b[38;5;33mConv2D\u001b[0m)                      │ (\u001b[38;5;45mNone\u001b[0m, \u001b[38;5;34m126\u001b[0m, \u001b[38;5;34m126\u001b[0m, \u001b[38;5;34m32\u001b[0m)        │             \u001b[38;5;34m320\u001b[0m │\n",
       "├──────────────────────────────────────┼─────────────────────────────┼─────────────────┤\n",
       "│ max_pooling2d (\u001b[38;5;33mMaxPooling2D\u001b[0m)         │ (\u001b[38;5;45mNone\u001b[0m, \u001b[38;5;34m63\u001b[0m, \u001b[38;5;34m63\u001b[0m, \u001b[38;5;34m32\u001b[0m)          │               \u001b[38;5;34m0\u001b[0m │\n",
       "├──────────────────────────────────────┼─────────────────────────────┼─────────────────┤\n",
       "│ conv2d_1 (\u001b[38;5;33mConv2D\u001b[0m)                    │ (\u001b[38;5;45mNone\u001b[0m, \u001b[38;5;34m61\u001b[0m, \u001b[38;5;34m61\u001b[0m, \u001b[38;5;34m64\u001b[0m)          │          \u001b[38;5;34m18,496\u001b[0m │\n",
       "├──────────────────────────────────────┼─────────────────────────────┼─────────────────┤\n",
       "│ max_pooling2d_1 (\u001b[38;5;33mMaxPooling2D\u001b[0m)       │ (\u001b[38;5;45mNone\u001b[0m, \u001b[38;5;34m30\u001b[0m, \u001b[38;5;34m30\u001b[0m, \u001b[38;5;34m64\u001b[0m)          │               \u001b[38;5;34m0\u001b[0m │\n",
       "├──────────────────────────────────────┼─────────────────────────────┼─────────────────┤\n",
       "│ conv2d_2 (\u001b[38;5;33mConv2D\u001b[0m)                    │ (\u001b[38;5;45mNone\u001b[0m, \u001b[38;5;34m28\u001b[0m, \u001b[38;5;34m28\u001b[0m, \u001b[38;5;34m128\u001b[0m)         │          \u001b[38;5;34m73,856\u001b[0m │\n",
       "├──────────────────────────────────────┼─────────────────────────────┼─────────────────┤\n",
       "│ max_pooling2d_2 (\u001b[38;5;33mMaxPooling2D\u001b[0m)       │ (\u001b[38;5;45mNone\u001b[0m, \u001b[38;5;34m14\u001b[0m, \u001b[38;5;34m14\u001b[0m, \u001b[38;5;34m128\u001b[0m)         │               \u001b[38;5;34m0\u001b[0m │\n",
       "├──────────────────────────────────────┼─────────────────────────────┼─────────────────┤\n",
       "│ flatten (\u001b[38;5;33mFlatten\u001b[0m)                    │ (\u001b[38;5;45mNone\u001b[0m, \u001b[38;5;34m25088\u001b[0m)               │               \u001b[38;5;34m0\u001b[0m │\n",
       "├──────────────────────────────────────┼─────────────────────────────┼─────────────────┤\n",
       "│ dense (\u001b[38;5;33mDense\u001b[0m)                        │ (\u001b[38;5;45mNone\u001b[0m, \u001b[38;5;34m512\u001b[0m)                 │      \u001b[38;5;34m12,845,568\u001b[0m │\n",
       "├──────────────────────────────────────┼─────────────────────────────┼─────────────────┤\n",
       "│ dropout (\u001b[38;5;33mDropout\u001b[0m)                    │ (\u001b[38;5;45mNone\u001b[0m, \u001b[38;5;34m512\u001b[0m)                 │               \u001b[38;5;34m0\u001b[0m │\n",
       "├──────────────────────────────────────┼─────────────────────────────┼─────────────────┤\n",
       "│ dense_1 (\u001b[38;5;33mDense\u001b[0m)                      │ (\u001b[38;5;45mNone\u001b[0m, \u001b[38;5;34m10\u001b[0m)                  │           \u001b[38;5;34m5,130\u001b[0m │\n",
       "└──────────────────────────────────────┴─────────────────────────────┴─────────────────┘\n"
      ]
     },
     "metadata": {},
     "output_type": "display_data"
    },
    {
     "data": {
      "text/html": [
       "<pre style=\"white-space:pre;overflow-x:auto;line-height:normal;font-family:Menlo,'DejaVu Sans Mono',consolas,'Courier New',monospace\"><span style=\"font-weight: bold\"> Total params: </span><span style=\"color: #00af00; text-decoration-color: #00af00\">12,943,370</span> (49.38 MB)\n",
       "</pre>\n"
      ],
      "text/plain": [
       "\u001b[1m Total params: \u001b[0m\u001b[38;5;34m12,943,370\u001b[0m (49.38 MB)\n"
      ]
     },
     "metadata": {},
     "output_type": "display_data"
    },
    {
     "data": {
      "text/html": [
       "<pre style=\"white-space:pre;overflow-x:auto;line-height:normal;font-family:Menlo,'DejaVu Sans Mono',consolas,'Courier New',monospace\"><span style=\"font-weight: bold\"> Trainable params: </span><span style=\"color: #00af00; text-decoration-color: #00af00\">12,943,370</span> (49.38 MB)\n",
       "</pre>\n"
      ],
      "text/plain": [
       "\u001b[1m Trainable params: \u001b[0m\u001b[38;5;34m12,943,370\u001b[0m (49.38 MB)\n"
      ]
     },
     "metadata": {},
     "output_type": "display_data"
    },
    {
     "data": {
      "text/html": [
       "<pre style=\"white-space:pre;overflow-x:auto;line-height:normal;font-family:Menlo,'DejaVu Sans Mono',consolas,'Courier New',monospace\"><span style=\"font-weight: bold\"> Non-trainable params: </span><span style=\"color: #00af00; text-decoration-color: #00af00\">0</span> (0.00 B)\n",
       "</pre>\n"
      ],
      "text/plain": [
       "\u001b[1m Non-trainable params: \u001b[0m\u001b[38;5;34m0\u001b[0m (0.00 B)\n"
      ]
     },
     "metadata": {},
     "output_type": "display_data"
    },
    {
     "name": "stdout",
     "output_type": "stream",
     "text": [
      "None\n"
     ]
    }
   ],
   "source": [
    "if 'spectrograms' not in locals() or len(spectrograms) == 0:\n",
    "    print(\"No spectrograms available!\")\n",
    "else:\n",
    "    X_spec_train, X_spec_test, y_spec_train, y_spec_test = train_test_split(\n",
    "        spectrograms, spec_labels_encoded, test_size=0.2, random_state=42, stratify=spec_labels_encoded\n",
    "    )\n",
    "\n",
    "    y_spec_train_cat = tf.keras.utils.to_categorical(y_spec_train, num_classes=len(np.unique(spec_labels_encoded)))\n",
    "    y_spec_test_cat = tf.keras.utils.to_categorical(y_spec_test, num_classes=len(np.unique(spec_labels_encoded)))\n",
    "\n",
    "    cnn_model = Sequential([\n",
    "        Conv2D(32, (3, 3), activation='relu', input_shape=(128, 128, 1)),\n",
    "        MaxPooling2D((2, 2)),\n",
    "        Conv2D(64, (3, 3), activation='relu'),\n",
    "        MaxPooling2D((2, 2)),\n",
    "        Conv2D(128, (3, 3), activation='relu'),\n",
    "        MaxPooling2D((2, 2)),\n",
    "        Flatten(),\n",
    "        Dense(512, activation='relu'),\n",
    "        Dropout(0.5),\n",
    "        Dense(len(np.unique(spec_labels_encoded)), activation='softmax')\n",
    "    ])\n",
    "\n",
    "    cnn_model.compile(optimizer='adam', loss='categorical_crossentropy', metrics=['accuracy'])\n",
    "    print(cnn_model.summary())\n"
   ]
  },
  {
   "cell_type": "markdown",
   "metadata": {},
   "source": [
    "## Train Custom CNN\n",
    "Train the custom CNN model on spectrograms and evaluate its performance.\n"
   ]
  },
  {
   "cell_type": "code",
   "execution_count": 17,
   "metadata": {},
   "outputs": [
    {
     "name": "stdout",
     "output_type": "stream",
     "text": [
      "Epoch 1/10\n",
      "\u001b[1m3/3\u001b[0m \u001b[32m━━━━━━━━━━━━━━━━━━━━\u001b[0m\u001b[37m\u001b[0m \u001b[1m1s\u001b[0m 253ms/step - accuracy: 1.0000 - loss: 0.0053 - val_accuracy: 0.2000 - val_loss: 4.4385\n",
      "Epoch 2/10\n",
      "\u001b[1m3/3\u001b[0m \u001b[32m━━━━━━━━━━━━━━━━━━━━\u001b[0m\u001b[37m\u001b[0m \u001b[1m1s\u001b[0m 231ms/step - accuracy: 1.0000 - loss: 0.0014 - val_accuracy: 0.2000 - val_loss: 4.5230\n",
      "Epoch 3/10\n",
      "\u001b[1m3/3\u001b[0m \u001b[32m━━━━━━━━━━━━━━━━━━━━\u001b[0m\u001b[37m\u001b[0m \u001b[1m1s\u001b[0m 259ms/step - accuracy: 1.0000 - loss: 0.0012 - val_accuracy: 0.2000 - val_loss: 4.6075\n",
      "Epoch 4/10\n",
      "\u001b[1m3/3\u001b[0m \u001b[32m━━━━━━━━━━━━━━━━━━━━\u001b[0m\u001b[37m\u001b[0m \u001b[1m1s\u001b[0m 231ms/step - accuracy: 1.0000 - loss: 0.0023 - val_accuracy: 0.2000 - val_loss: 4.5763\n",
      "Epoch 5/10\n",
      "\u001b[1m3/3\u001b[0m \u001b[32m━━━━━━━━━━━━━━━━━━━━\u001b[0m\u001b[37m\u001b[0m \u001b[1m1s\u001b[0m 241ms/step - accuracy: 1.0000 - loss: 0.0076 - val_accuracy: 0.3000 - val_loss: 4.1957\n",
      "Epoch 6/10\n",
      "\u001b[1m3/3\u001b[0m \u001b[32m━━━━━━━━━━━━━━━━━━━━\u001b[0m\u001b[37m\u001b[0m \u001b[1m1s\u001b[0m 238ms/step - accuracy: 1.0000 - loss: 0.0020 - val_accuracy: 0.3000 - val_loss: 4.1342\n",
      "Epoch 7/10\n",
      "\u001b[1m3/3\u001b[0m \u001b[32m━━━━━━━━━━━━━━━━━━━━\u001b[0m\u001b[37m\u001b[0m \u001b[1m1s\u001b[0m 247ms/step - accuracy: 1.0000 - loss: 0.0024 - val_accuracy: 0.3000 - val_loss: 4.1838\n",
      "Epoch 8/10\n",
      "\u001b[1m3/3\u001b[0m \u001b[32m━━━━━━━━━━━━━━━━━━━━\u001b[0m\u001b[37m\u001b[0m \u001b[1m1s\u001b[0m 237ms/step - accuracy: 1.0000 - loss: 0.0020 - val_accuracy: 0.3000 - val_loss: 4.2697\n",
      "Epoch 9/10\n",
      "\u001b[1m3/3\u001b[0m \u001b[32m━━━━━━━━━━━━━━━━━━━━\u001b[0m\u001b[37m\u001b[0m \u001b[1m1s\u001b[0m 237ms/step - accuracy: 1.0000 - loss: 0.0014 - val_accuracy: 0.3000 - val_loss: 4.3673\n",
      "Epoch 10/10\n",
      "\u001b[1m3/3\u001b[0m \u001b[32m━━━━━━━━━━━━━━━━━━━━\u001b[0m\u001b[37m\u001b[0m \u001b[1m1s\u001b[0m 243ms/step - accuracy: 1.0000 - loss: 0.0047 - val_accuracy: 0.3000 - val_loss: 4.3656\n",
      "Custom CNN Accuracy: 0.3000\n"
     ]
    }
   ],
   "source": [
    "if 'cnn_model' not in locals():\n",
    "    print(\"CNN model not available!\")\n",
    "else:\n",
    "    history = cnn_model.fit(\n",
    "        X_spec_train, y_spec_train_cat,\n",
    "        epochs=10,\n",
    "        batch_size=16,\n",
    "        validation_data=(X_spec_test, y_spec_test_cat),\n",
    "        verbose=1\n",
    "    )\n",
    "\n",
    "    cnn_loss, cnn_accuracy = cnn_model.evaluate(X_spec_test, y_spec_test_cat, verbose=0)\n",
    "    print(f\"Custom CNN Accuracy: {cnn_accuracy:.4f}\")\n"
   ]
  },
  {
   "cell_type": "markdown",
   "metadata": {},
   "source": [
    "## Transfer Learning with VGG16\n",
    "Use pre-trained VGG16 model for transfer learning on RGB spectrograms.\n"
   ]
  },
  {
   "cell_type": "code",
   "execution_count": 13,
   "metadata": {},
   "outputs": [
    {
     "name": "stdout",
     "output_type": "stream",
     "text": [
      "Converting spectrograms to RGB format for VGG16...\n",
      "Loading pre-trained VGG16 model...\n",
      "Transfer learning model created with 10 classes\n",
      "Training data shape: (40, 224, 224, 3)\n",
      "Test data shape: (10, 224, 224, 3)\n"
     ]
    }
   ],
   "source": [
    "if 'spectrograms' not in locals() or len(spectrograms) == 0:\n",
    "    print(\"No spectrograms available!\")\n",
    "else:\n",
    "    print(\"Converting spectrograms to RGB format for VGG16...\")\n",
    "    X_spec_rgb = np.repeat(spectrograms, 3, axis=-1)\n",
    "    X_spec_rgb = tf.image.resize(X_spec_rgb, [224, 224]).numpy()\n",
    "    X_spec_rgb = X_spec_rgb / 255.0\n",
    "\n",
    "    X_rgb_train, X_rgb_test, y_rgb_train, y_rgb_test = train_test_split(\n",
    "        X_spec_rgb, spec_labels_encoded, test_size=0.2, random_state=42, stratify=spec_labels_encoded\n",
    "    )\n",
    "\n",
    "    y_rgb_train_cat = tf.keras.utils.to_categorical(y_rgb_train, num_classes=len(np.unique(spec_labels_encoded)))\n",
    "    y_rgb_test_cat = tf.keras.utils.to_categorical(y_rgb_test, num_classes=len(np.unique(spec_labels_encoded)))\n",
    "\n",
    "    print(\"Loading pre-trained VGG16 model...\")\n",
    "    base_model = VGG16(weights='imagenet', include_top=False, input_shape=(224, 224, 3))\n",
    "    base_model.trainable = False\n",
    "\n",
    "    transfer_model = Sequential([\n",
    "        base_model,\n",
    "        tf.keras.layers.GlobalAveragePooling2D(),\n",
    "        Dense(512, activation='relu'),\n",
    "        Dropout(0.5),\n",
    "        Dense(len(np.unique(spec_labels_encoded)), activation='softmax')\n",
    "    ])\n",
    "\n",
    "    transfer_model.compile(optimizer='adam', loss='categorical_crossentropy', metrics=['accuracy'])\n",
    "    print(f\"Transfer learning model created with {len(np.unique(spec_labels_encoded))} classes\")\n",
    "    print(f\"Training data shape: {X_rgb_train.shape}\")\n",
    "    print(f\"Test data shape: {X_rgb_test.shape}\")\n"
   ]
  },
  {
   "cell_type": "markdown",
   "metadata": {},
   "source": [
    "## Train Transfer Learning Model\n",
    "Train the VGG16-based transfer learning model and evaluate its performance.\n"
   ]
  },
  {
   "cell_type": "code",
   "execution_count": 14,
   "metadata": {},
   "outputs": [
    {
     "name": "stdout",
     "output_type": "stream",
     "text": [
      "Training VGG16 transfer learning model...\n",
      "Epoch 1/50\n",
      "\u001b[1m5/5\u001b[0m \u001b[32m━━━━━━━━━━━━━━━━━━━━\u001b[0m\u001b[37m\u001b[0m \u001b[1m7s\u001b[0m 1s/step - accuracy: 0.0500 - loss: 2.6455 - val_accuracy: 0.2000 - val_loss: 2.3361\n",
      "Epoch 2/50\n",
      "\u001b[1m5/5\u001b[0m \u001b[32m━━━━━━━━━━━━━━━━━━━━\u001b[0m\u001b[37m\u001b[0m \u001b[1m6s\u001b[0m 1s/step - accuracy: 0.1500 - loss: 2.3548 - val_accuracy: 0.3000 - val_loss: 2.2768\n",
      "Epoch 3/50\n",
      "\u001b[1m5/5\u001b[0m \u001b[32m━━━━━━━━━━━━━━━━━━━━\u001b[0m\u001b[37m\u001b[0m \u001b[1m6s\u001b[0m 1s/step - accuracy: 0.1000 - loss: 2.3133 - val_accuracy: 0.2000 - val_loss: 2.2474\n",
      "Epoch 4/50\n",
      "\u001b[1m5/5\u001b[0m \u001b[32m━━━━━━━━━━━━━━━━━━━━\u001b[0m\u001b[37m\u001b[0m \u001b[1m6s\u001b[0m 1s/step - accuracy: 0.2000 - loss: 2.2925 - val_accuracy: 0.2000 - val_loss: 2.2342\n",
      "Epoch 5/50\n",
      "\u001b[1m5/5\u001b[0m \u001b[32m━━━━━━━━━━━━━━━━━━━━\u001b[0m\u001b[37m\u001b[0m \u001b[1m6s\u001b[0m 1s/step - accuracy: 0.0500 - loss: 2.3925 - val_accuracy: 0.2000 - val_loss: 2.2165\n",
      "Epoch 6/50\n",
      "\u001b[1m5/5\u001b[0m \u001b[32m━━━━━━━━━━━━━━━━━━━━\u001b[0m\u001b[37m\u001b[0m \u001b[1m7s\u001b[0m 1s/step - accuracy: 0.1750 - loss: 2.2248 - val_accuracy: 0.2000 - val_loss: 2.1917\n",
      "Epoch 7/50\n",
      "\u001b[1m5/5\u001b[0m \u001b[32m━━━━━━━━━━━━━━━━━━━━\u001b[0m\u001b[37m\u001b[0m \u001b[1m6s\u001b[0m 1s/step - accuracy: 0.0750 - loss: 2.2945 - val_accuracy: 0.1000 - val_loss: 2.1715\n",
      "Epoch 8/50\n",
      "\u001b[1m5/5\u001b[0m \u001b[32m━━━━━━━━━━━━━━━━━━━━\u001b[0m\u001b[37m\u001b[0m \u001b[1m6s\u001b[0m 1s/step - accuracy: 0.1250 - loss: 2.2302 - val_accuracy: 0.3000 - val_loss: 2.1576\n",
      "Epoch 9/50\n",
      "\u001b[1m5/5\u001b[0m \u001b[32m━━━━━━━━━━━━━━━━━━━━\u001b[0m\u001b[37m\u001b[0m \u001b[1m6s\u001b[0m 1s/step - accuracy: 0.1750 - loss: 2.1678 - val_accuracy: 0.3000 - val_loss: 2.1422\n",
      "Epoch 10/50\n",
      "\u001b[1m5/5\u001b[0m \u001b[32m━━━━━━━━━━━━━━━━━━━━\u001b[0m\u001b[37m\u001b[0m \u001b[1m6s\u001b[0m 1s/step - accuracy: 0.2500 - loss: 2.1470 - val_accuracy: 0.3000 - val_loss: 2.1230\n",
      "Epoch 11/50\n",
      "\u001b[1m5/5\u001b[0m \u001b[32m━━━━━━━━━━━━━━━━━━━━\u001b[0m\u001b[37m\u001b[0m \u001b[1m6s\u001b[0m 1s/step - accuracy: 0.2500 - loss: 2.0825 - val_accuracy: 0.2000 - val_loss: 2.1136\n",
      "Epoch 12/50\n",
      "\u001b[1m5/5\u001b[0m \u001b[32m━━━━━━━━━━━━━━━━━━━━\u001b[0m\u001b[37m\u001b[0m \u001b[1m6s\u001b[0m 1s/step - accuracy: 0.2250 - loss: 2.1626 - val_accuracy: 0.2000 - val_loss: 2.1063\n",
      "Epoch 13/50\n",
      "\u001b[1m5/5\u001b[0m \u001b[32m━━━━━━━━━━━━━━━━━━━━\u001b[0m\u001b[37m\u001b[0m \u001b[1m6s\u001b[0m 1s/step - accuracy: 0.2250 - loss: 2.1194 - val_accuracy: 0.2000 - val_loss: 2.0904\n",
      "Epoch 14/50\n",
      "\u001b[1m5/5\u001b[0m \u001b[32m━━━━━━━━━━━━━━━━━━━━\u001b[0m\u001b[37m\u001b[0m \u001b[1m6s\u001b[0m 1s/step - accuracy: 0.2500 - loss: 2.1099 - val_accuracy: 0.5000 - val_loss: 2.0783\n",
      "Epoch 15/50\n",
      "\u001b[1m5/5\u001b[0m \u001b[32m━━━━━━━━━━━━━━━━━━━━\u001b[0m\u001b[37m\u001b[0m \u001b[1m6s\u001b[0m 1s/step - accuracy: 0.3250 - loss: 2.0522 - val_accuracy: 0.3000 - val_loss: 2.0664\n",
      "Epoch 16/50\n",
      "\u001b[1m5/5\u001b[0m \u001b[32m━━━━━━━━━━━━━━━━━━━━\u001b[0m\u001b[37m\u001b[0m \u001b[1m6s\u001b[0m 1s/step - accuracy: 0.1750 - loss: 2.0708 - val_accuracy: 0.3000 - val_loss: 2.0520\n",
      "Epoch 17/50\n",
      "\u001b[1m5/5\u001b[0m \u001b[32m━━━━━━━━━━━━━━━━━━━━\u001b[0m\u001b[37m\u001b[0m \u001b[1m6s\u001b[0m 1s/step - accuracy: 0.2500 - loss: 1.9752 - val_accuracy: 0.5000 - val_loss: 2.0398\n",
      "Epoch 18/50\n",
      "\u001b[1m5/5\u001b[0m \u001b[32m━━━━━━━━━━━━━━━━━━━━\u001b[0m\u001b[37m\u001b[0m \u001b[1m6s\u001b[0m 1s/step - accuracy: 0.4250 - loss: 1.9747 - val_accuracy: 0.5000 - val_loss: 2.0371\n",
      "Epoch 19/50\n",
      "\u001b[1m5/5\u001b[0m \u001b[32m━━━━━━━━━━━━━━━━━━━━\u001b[0m\u001b[37m\u001b[0m \u001b[1m6s\u001b[0m 1s/step - accuracy: 0.3000 - loss: 1.9408 - val_accuracy: 0.4000 - val_loss: 2.0304\n",
      "Epoch 20/50\n",
      "\u001b[1m5/5\u001b[0m \u001b[32m━━━━━━━━━━━━━━━━━━━━\u001b[0m\u001b[37m\u001b[0m \u001b[1m7s\u001b[0m 1s/step - accuracy: 0.3750 - loss: 1.8652 - val_accuracy: 0.4000 - val_loss: 2.0167\n",
      "Epoch 21/50\n",
      "\u001b[1m5/5\u001b[0m \u001b[32m━━━━━━━━━━━━━━━━━━━━\u001b[0m\u001b[37m\u001b[0m \u001b[1m7s\u001b[0m 1s/step - accuracy: 0.2500 - loss: 1.9392 - val_accuracy: 0.4000 - val_loss: 2.0034\n",
      "Epoch 22/50\n",
      "\u001b[1m5/5\u001b[0m \u001b[32m━━━━━━━━━━━━━━━━━━━━\u001b[0m\u001b[37m\u001b[0m \u001b[1m7s\u001b[0m 1s/step - accuracy: 0.2750 - loss: 1.9326 - val_accuracy: 0.6000 - val_loss: 1.9943\n",
      "Epoch 23/50\n",
      "\u001b[1m5/5\u001b[0m \u001b[32m━━━━━━━━━━━━━━━━━━━━\u001b[0m\u001b[37m\u001b[0m \u001b[1m7s\u001b[0m 1s/step - accuracy: 0.2500 - loss: 1.9169 - val_accuracy: 0.5000 - val_loss: 1.9858\n",
      "Epoch 24/50\n",
      "\u001b[1m5/5\u001b[0m \u001b[32m━━━━━━━━━━━━━━━━━━━━\u001b[0m\u001b[37m\u001b[0m \u001b[1m6s\u001b[0m 1s/step - accuracy: 0.3500 - loss: 1.8352 - val_accuracy: 0.3000 - val_loss: 1.9795\n",
      "Epoch 25/50\n",
      "\u001b[1m5/5\u001b[0m \u001b[32m━━━━━━━━━━━━━━━━━━━━\u001b[0m\u001b[37m\u001b[0m \u001b[1m7s\u001b[0m 1s/step - accuracy: 0.3750 - loss: 1.8226 - val_accuracy: 0.4000 - val_loss: 1.9715\n",
      "Epoch 26/50\n",
      "\u001b[1m5/5\u001b[0m \u001b[32m━━━━━━━━━━━━━━━━━━━━\u001b[0m\u001b[37m\u001b[0m \u001b[1m6s\u001b[0m 1s/step - accuracy: 0.4500 - loss: 1.8743 - val_accuracy: 0.5000 - val_loss: 1.9658\n",
      "Epoch 27/50\n",
      "\u001b[1m5/5\u001b[0m \u001b[32m━━━━━━━━━━━━━━━━━━━━\u001b[0m\u001b[37m\u001b[0m \u001b[1m7s\u001b[0m 1s/step - accuracy: 0.3000 - loss: 1.8178 - val_accuracy: 0.6000 - val_loss: 1.9601\n",
      "Epoch 28/50\n",
      "\u001b[1m5/5\u001b[0m \u001b[32m━━━━━━━━━━━━━━━━━━━━\u001b[0m\u001b[37m\u001b[0m \u001b[1m7s\u001b[0m 1s/step - accuracy: 0.4000 - loss: 1.7394 - val_accuracy: 0.5000 - val_loss: 1.9522\n",
      "Epoch 29/50\n",
      "\u001b[1m5/5\u001b[0m \u001b[32m━━━━━━━━━━━━━━━━━━━━\u001b[0m\u001b[37m\u001b[0m \u001b[1m6s\u001b[0m 1s/step - accuracy: 0.4000 - loss: 1.8156 - val_accuracy: 0.4000 - val_loss: 1.9366\n",
      "Epoch 30/50\n",
      "\u001b[1m5/5\u001b[0m \u001b[32m━━━━━━━━━━━━━━━━━━━━\u001b[0m\u001b[37m\u001b[0m \u001b[1m6s\u001b[0m 1s/step - accuracy: 0.4000 - loss: 1.7822 - val_accuracy: 0.3000 - val_loss: 1.9389\n",
      "Epoch 31/50\n",
      "\u001b[1m5/5\u001b[0m \u001b[32m━━━━━━━━━━━━━━━━━━━━\u001b[0m\u001b[37m\u001b[0m \u001b[1m9s\u001b[0m 2s/step - accuracy: 0.4000 - loss: 1.7761 - val_accuracy: 0.4000 - val_loss: 1.9383\n",
      "Epoch 32/50\n",
      "\u001b[1m5/5\u001b[0m \u001b[32m━━━━━━━━━━━━━━━━━━━━\u001b[0m\u001b[37m\u001b[0m \u001b[1m11s\u001b[0m 2s/step - accuracy: 0.4000 - loss: 1.7093 - val_accuracy: 0.3000 - val_loss: 1.9358\n",
      "Epoch 33/50\n",
      "\u001b[1m5/5\u001b[0m \u001b[32m━━━━━━━━━━━━━━━━━━━━\u001b[0m\u001b[37m\u001b[0m \u001b[1m9s\u001b[0m 2s/step - accuracy: 0.3500 - loss: 1.7151 - val_accuracy: 0.5000 - val_loss: 1.9313\n",
      "Epoch 34/50\n",
      "\u001b[1m5/5\u001b[0m \u001b[32m━━━━━━━━━━━━━━━━━━━━\u001b[0m\u001b[37m\u001b[0m \u001b[1m8s\u001b[0m 2s/step - accuracy: 0.3250 - loss: 1.7997 - val_accuracy: 0.4000 - val_loss: 1.9327\n",
      "Epoch 35/50\n",
      "\u001b[1m5/5\u001b[0m \u001b[32m━━━━━━━━━━━━━━━━━━━━\u001b[0m\u001b[37m\u001b[0m \u001b[1m9s\u001b[0m 2s/step - accuracy: 0.5000 - loss: 1.6454 - val_accuracy: 0.4000 - val_loss: 1.9298\n",
      "Epoch 36/50\n",
      "\u001b[1m5/5\u001b[0m \u001b[32m━━━━━━━━━━━━━━━━━━━━\u001b[0m\u001b[37m\u001b[0m \u001b[1m8s\u001b[0m 2s/step - accuracy: 0.4250 - loss: 1.6738 - val_accuracy: 0.5000 - val_loss: 1.9237\n",
      "Epoch 37/50\n",
      "\u001b[1m5/5\u001b[0m \u001b[32m━━━━━━━━━━━━━━━━━━━━\u001b[0m\u001b[37m\u001b[0m \u001b[1m8s\u001b[0m 2s/step - accuracy: 0.5250 - loss: 1.6274 - val_accuracy: 0.3000 - val_loss: 1.9275\n",
      "Epoch 38/50\n",
      "\u001b[1m5/5\u001b[0m \u001b[32m━━━━━━━━━━━━━━━━━━━━\u001b[0m\u001b[37m\u001b[0m \u001b[1m8s\u001b[0m 2s/step - accuracy: 0.3750 - loss: 1.6661 - val_accuracy: 0.3000 - val_loss: 1.9089\n",
      "Epoch 39/50\n",
      "\u001b[1m5/5\u001b[0m \u001b[32m━━━━━━━━━━━━━━━━━━━━\u001b[0m\u001b[37m\u001b[0m \u001b[1m8s\u001b[0m 2s/step - accuracy: 0.4750 - loss: 1.6765 - val_accuracy: 0.3000 - val_loss: 1.8966\n",
      "Epoch 40/50\n",
      "\u001b[1m5/5\u001b[0m \u001b[32m━━━━━━━━━━━━━━━━━━━━\u001b[0m\u001b[37m\u001b[0m \u001b[1m9s\u001b[0m 2s/step - accuracy: 0.5750 - loss: 1.6127 - val_accuracy: 0.4000 - val_loss: 1.8914\n",
      "Epoch 41/50\n",
      "\u001b[1m5/5\u001b[0m \u001b[32m━━━━━━━━━━━━━━━━━━━━\u001b[0m\u001b[37m\u001b[0m \u001b[1m8s\u001b[0m 2s/step - accuracy: 0.5000 - loss: 1.5637 - val_accuracy: 0.4000 - val_loss: 1.8941\n",
      "Epoch 42/50\n",
      "\u001b[1m5/5\u001b[0m \u001b[32m━━━━━━━━━━━━━━━━━━━━\u001b[0m\u001b[37m\u001b[0m \u001b[1m8s\u001b[0m 2s/step - accuracy: 0.4250 - loss: 1.5981 - val_accuracy: 0.4000 - val_loss: 1.8922\n",
      "Epoch 43/50\n",
      "\u001b[1m5/5\u001b[0m \u001b[32m━━━━━━━━━━━━━━━━━━━━\u001b[0m\u001b[37m\u001b[0m \u001b[1m9s\u001b[0m 2s/step - accuracy: 0.3750 - loss: 1.6827 - val_accuracy: 0.5000 - val_loss: 1.8903\n",
      "Epoch 44/50\n",
      "\u001b[1m5/5\u001b[0m \u001b[32m━━━━━━━━━━━━━━━━━━━━\u001b[0m\u001b[37m\u001b[0m \u001b[1m9s\u001b[0m 2s/step - accuracy: 0.5000 - loss: 1.6102 - val_accuracy: 0.4000 - val_loss: 1.8858\n",
      "Epoch 45/50\n",
      "\u001b[1m5/5\u001b[0m \u001b[32m━━━━━━━━━━━━━━━━━━━━\u001b[0m\u001b[37m\u001b[0m \u001b[1m8s\u001b[0m 2s/step - accuracy: 0.5500 - loss: 1.5861 - val_accuracy: 0.3000 - val_loss: 1.8788\n",
      "Epoch 46/50\n",
      "\u001b[1m5/5\u001b[0m \u001b[32m━━━━━━━━━━━━━━━━━━━━\u001b[0m\u001b[37m\u001b[0m \u001b[1m8s\u001b[0m 2s/step - accuracy: 0.5000 - loss: 1.5810 - val_accuracy: 0.4000 - val_loss: 1.8972\n",
      "Epoch 47/50\n",
      "\u001b[1m5/5\u001b[0m \u001b[32m━━━━━━━━━━━━━━━━━━━━\u001b[0m\u001b[37m\u001b[0m \u001b[1m7s\u001b[0m 1s/step - accuracy: 0.5000 - loss: 1.5674 - val_accuracy: 0.2000 - val_loss: 1.9013\n",
      "Epoch 48/50\n",
      "\u001b[1m5/5\u001b[0m \u001b[32m━━━━━━━━━━━━━━━━━━━━\u001b[0m\u001b[37m\u001b[0m \u001b[1m6s\u001b[0m 1s/step - accuracy: 0.5250 - loss: 1.5131 - val_accuracy: 0.3000 - val_loss: 1.9061\n",
      "Epoch 49/50\n",
      "\u001b[1m5/5\u001b[0m \u001b[32m━━━━━━━━━━━━━━━━━━━━\u001b[0m\u001b[37m\u001b[0m \u001b[1m6s\u001b[0m 1s/step - accuracy: 0.5750 - loss: 1.4472 - val_accuracy: 0.4000 - val_loss: 1.8828\n",
      "Epoch 50/50\n",
      "\u001b[1m5/5\u001b[0m \u001b[32m━━━━━━━━━━━━━━━━━━━━\u001b[0m\u001b[37m\u001b[0m \u001b[1m6s\u001b[0m 1s/step - accuracy: 0.5000 - loss: 1.5574 - val_accuracy: 0.5000 - val_loss: 1.8667\n",
      "Transfer Learning Accuracy: 0.5000\n"
     ]
    }
   ],
   "source": [
    "if 'transfer_model' not in locals():\n",
    "    print(\"Transfer model not available!\")\n",
    "else:\n",
    "    print(\"Training VGG16 transfer learning model...\")\n",
    "    transfer_history = transfer_model.fit(\n",
    "        X_rgb_train, y_rgb_train_cat,\n",
    "        epochs=50,\n",
    "        batch_size=8,\n",
    "        validation_data=(X_rgb_test, y_rgb_test_cat),\n",
    "        verbose=1\n",
    "    )\n",
    "\n",
    "    transfer_loss, transfer_accuracy = transfer_model.evaluate(X_rgb_test, y_rgb_test_cat, verbose=0)\n",
    "    print(f\"Transfer Learning Accuracy: {transfer_accuracy:.4f}\")\n"
   ]
  },
  {
   "cell_type": "markdown",
   "metadata": {},
   "source": [
    "## Model Comparison\n",
    "Compare the performance of all trained models and visualize results.\n"
   ]
  },
  {
   "cell_type": "code",
   "execution_count": 18,
   "metadata": {},
   "outputs": [
    {
     "name": "stdout",
     "output_type": "stream",
     "text": [
      "                       Model  Accuracy\n",
      "0              Random Forest       0.7\n",
      "1                        SVM       0.6\n",
      "2                 Custom CNN       0.3\n",
      "3  Transfer Learning (VGG16)       0.5\n"
     ]
    },
    {
     "data": {
      "image/png": "[encoded data removed]",
      "text/plain": [
       "<Figure size 1000x600 with 1 Axes>"
      ]
     },
     "metadata": {},
     "output_type": "display_data"
    }
   ],
   "source": [
    "models_available = []\n",
    "accuracies = []\n",
    "\n",
    "if 'rf_accuracy' in locals():\n",
    "    models_available.append('Random Forest')\n",
    "    accuracies.append(rf_accuracy)\n",
    "    \n",
    "if 'svm_accuracy' in locals():\n",
    "    models_available.append('SVM')\n",
    "    accuracies.append(svm_accuracy)\n",
    "    \n",
    "if 'cnn_accuracy' in locals():\n",
    "    models_available.append('Custom CNN')\n",
    "    accuracies.append(cnn_accuracy)\n",
    "    \n",
    "if 'transfer_accuracy' in locals():\n",
    "    models_available.append('Transfer Learning (VGG16)')\n",
    "    accuracies.append(transfer_accuracy)\n",
    "\n",
    "if len(models_available) > 0:\n",
    "    results_df = pd.DataFrame({\n",
    "        'Model': models_available,\n",
    "        'Accuracy': accuracies\n",
    "    })\n",
    "    print(results_df)\n",
    "\n",
    "    plt.figure(figsize=(10, 6))\n",
    "    colors = ['blue', 'green', 'red', 'orange'][:len(models_available)]\n",
    "    plt.bar(results_df['Model'], results_df['Accuracy'], color=colors, alpha=0.7)\n",
    "    plt.title('Model Performance Comparison')\n",
    "    plt.xlabel('Model')\n",
    "    plt.ylabel('Accuracy')\n",
    "    plt.xticks(rotation=45)\n",
    "    plt.tight_layout()\n",
    "    plt.show()\n",
    "else:\n",
    "    print(\"No trained models available for comparison.\")\n"
   ]
  },
  {
   "cell_type": "markdown",
   "metadata": {},
   "source": [
    "## Save Models\n",
    "Save all trained models and preprocessing objects for future use.\n"
   ]
  },
  {
   "cell_type": "code",
   "execution_count": 19,
   "metadata": {},
   "outputs": [
    {
     "name": "stderr",
     "output_type": "stream",
     "text": [
      "WARNING:absl:You are saving your model as an HDF5 file via `model.save()` or `keras.saving.save_model(model)`. This file format is considered legacy. We recommend using instead the native Keras format, e.g. `model.save('my_model.keras')` or `keras.saving.save_model(model, 'my_model.keras')`. \n",
      "WARNING:absl:You are saving your model as an HDF5 file via `model.save()` or `keras.saving.save_model(model)`. This file format is considered legacy. We recommend using instead the native Keras format, e.g. `model.save('my_model.keras')` or `keras.saving.save_model(model, 'my_model.keras')`. \n"
     ]
    },
    {
     "name": "stdout",
     "output_type": "stream",
     "text": [
      "Saved models: Random Forest, SVM, Scaler, Label Encoder, Custom CNN, Transfer Learning VGG16\n"
     ]
    }
   ],
   "source": [
    "import joblib\n",
    "\n",
    "saved_models = []\n",
    "\n",
    "if 'rf_model' in locals():\n",
    "    joblib.dump(rf_model, 'random_forest_model.pkl')\n",
    "    saved_models.append('Random Forest')\n",
    "\n",
    "if 'svm_model' in locals():\n",
    "    joblib.dump(svm_model, 'svm_model.pkl')\n",
    "    saved_models.append('SVM')\n",
    "\n",
    "if 'scaler' in locals():\n",
    "    joblib.dump(scaler, 'scaler.pkl')\n",
    "    saved_models.append('Scaler')\n",
    "\n",
    "if 'label_encoder' in locals():\n",
    "    joblib.dump(label_encoder, 'label_encoder.pkl')\n",
    "    saved_models.append('Label Encoder')\n",
    "\n",
    "if 'cnn_model' in locals():\n",
    "    cnn_model.save('cnn_model.h5')\n",
    "    saved_models.append('Custom CNN')\n",
    "\n",
    "if 'transfer_model' in locals():\n",
    "    transfer_model.save('transfer_model.h5')\n",
    "    saved_models.append('Transfer Learning VGG16')\n",
    "\n",
    "if saved_models:\n",
    "    print(f\"Saved models: {', '.join(saved_models)}\")\n",
    "else:\n",
    "    print(\"No models available to save.\")\n"
   ]
  },
  {
   "cell_type": "code",
   "execution_count": null,
   "metadata": {},
   "outputs": [],
   "source": []
  }
 ],
 "metadata": {
  "kernelspec": {
   "display_name": "Python 3 (ipykernel)",
   "language": "python",
   "name": "python3"
  },
  "language_info": {
   "codemirror_mode": {
    "name": "ipython",
    "version": 3
   },
   "file_extension": ".py",
   "mimetype": "text/x-python",
   "name": "python",
   "nbconvert_exporter": "python",
   "pygments_lexer": "ipython3",
   "version": "3.13.7"
  }
 },
 "nbformat": 4,
 "nbformat_minor": 4
}
